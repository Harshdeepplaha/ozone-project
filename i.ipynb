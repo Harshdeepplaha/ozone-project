{
 "cells": [
  {
   "cell_type": "code",
   "execution_count": 1,
   "metadata": {},
   "outputs": [],
   "source": [
    "import pandas as pd\n"
   ]
  },
  {
   "cell_type": "code",
   "execution_count": 16,
   "metadata": {},
   "outputs": [],
   "source": [
    "df = pd.read_csv(\"../ozone project/final_merged.csv\")\n",
    "\n",
    "\n"
   ]
  },
  {
   "cell_type": "code",
   "execution_count": 17,
   "metadata": {},
   "outputs": [
    {
     "data": {
      "text/html": [
       "<div>\n",
       "<style scoped>\n",
       "    .dataframe tbody tr th:only-of-type {\n",
       "        vertical-align: middle;\n",
       "    }\n",
       "\n",
       "    .dataframe tbody tr th {\n",
       "        vertical-align: top;\n",
       "    }\n",
       "\n",
       "    .dataframe thead th {\n",
       "        text-align: right;\n",
       "    }\n",
       "</style>\n",
       "<table border=\"1\" class=\"dataframe\">\n",
       "  <thead>\n",
       "    <tr style=\"text-align: right;\">\n",
       "      <th></th>\n",
       "      <th>Unnamed: 0</th>\n",
       "      <th>lat</th>\n",
       "      <th>lon</th>\n",
       "      <th>RH</th>\n",
       "      <th>U</th>\n",
       "      <th>V</th>\n",
       "      <th>QV</th>\n",
       "      <th>T</th>\n",
       "      <th>time</th>\n",
       "      <th>weightedMeanO3</th>\n",
       "    </tr>\n",
       "  </thead>\n",
       "  <tbody>\n",
       "    <tr>\n",
       "      <th>0</th>\n",
       "      <td>0</td>\n",
       "      <td>56.0</td>\n",
       "      <td>7.5</td>\n",
       "      <td>0.800717</td>\n",
       "      <td>-13.585140</td>\n",
       "      <td>3.725996</td>\n",
       "      <td>0.002572</td>\n",
       "      <td>271.011611</td>\n",
       "      <td>1996-01-01</td>\n",
       "      <td>29.751860</td>\n",
       "    </tr>\n",
       "    <tr>\n",
       "      <th>1</th>\n",
       "      <td>1</td>\n",
       "      <td>46.0</td>\n",
       "      <td>-122.5</td>\n",
       "      <td>0.898898</td>\n",
       "      <td>-0.016807</td>\n",
       "      <td>1.728883</td>\n",
       "      <td>0.005204</td>\n",
       "      <td>278.469478</td>\n",
       "      <td>1996-01-01</td>\n",
       "      <td>6.217391</td>\n",
       "    </tr>\n",
       "    <tr>\n",
       "      <th>2</th>\n",
       "      <td>2</td>\n",
       "      <td>46.0</td>\n",
       "      <td>-102.5</td>\n",
       "      <td>0.862283</td>\n",
       "      <td>4.652367</td>\n",
       "      <td>-6.664802</td>\n",
       "      <td>0.002233</td>\n",
       "      <td>266.765017</td>\n",
       "      <td>1996-01-01</td>\n",
       "      <td>23.416667</td>\n",
       "    </tr>\n",
       "    <tr>\n",
       "      <th>3</th>\n",
       "      <td>3</td>\n",
       "      <td>46.0</td>\n",
       "      <td>-97.5</td>\n",
       "      <td>0.951425</td>\n",
       "      <td>-1.605404</td>\n",
       "      <td>-1.991173</td>\n",
       "      <td>0.002368</td>\n",
       "      <td>267.066920</td>\n",
       "      <td>1996-01-01</td>\n",
       "      <td>18.583333</td>\n",
       "    </tr>\n",
       "    <tr>\n",
       "      <th>4</th>\n",
       "      <td>4</td>\n",
       "      <td>46.0</td>\n",
       "      <td>-92.5</td>\n",
       "      <td>0.927911</td>\n",
       "      <td>-7.111815</td>\n",
       "      <td>-2.292224</td>\n",
       "      <td>0.002714</td>\n",
       "      <td>269.141948</td>\n",
       "      <td>1996-01-01</td>\n",
       "      <td>16.000000</td>\n",
       "    </tr>\n",
       "  </tbody>\n",
       "</table>\n",
       "</div>"
      ],
      "text/plain": [
       "   Unnamed: 0   lat    lon        RH          U         V        QV  \\\n",
       "0           0  56.0    7.5  0.800717 -13.585140  3.725996  0.002572   \n",
       "1           1  46.0 -122.5  0.898898  -0.016807  1.728883  0.005204   \n",
       "2           2  46.0 -102.5  0.862283   4.652367 -6.664802  0.002233   \n",
       "3           3  46.0  -97.5  0.951425  -1.605404 -1.991173  0.002368   \n",
       "4           4  46.0  -92.5  0.927911  -7.111815 -2.292224  0.002714   \n",
       "\n",
       "            T        time  weightedMeanO3  \n",
       "0  271.011611  1996-01-01       29.751860  \n",
       "1  278.469478  1996-01-01        6.217391  \n",
       "2  266.765017  1996-01-01       23.416667  \n",
       "3  267.066920  1996-01-01       18.583333  \n",
       "4  269.141948  1996-01-01       16.000000  "
      ]
     },
     "execution_count": 17,
     "metadata": {},
     "output_type": "execute_result"
    }
   ],
   "source": [
    "df.head(5)"
   ]
  },
  {
   "cell_type": "code",
   "execution_count": 18,
   "metadata": {},
   "outputs": [
    {
     "data": {
      "text/html": [
       "<div>\n",
       "<style scoped>\n",
       "    .dataframe tbody tr th:only-of-type {\n",
       "        vertical-align: middle;\n",
       "    }\n",
       "\n",
       "    .dataframe tbody tr th {\n",
       "        vertical-align: top;\n",
       "    }\n",
       "\n",
       "    .dataframe thead th {\n",
       "        text-align: right;\n",
       "    }\n",
       "</style>\n",
       "<table border=\"1\" class=\"dataframe\">\n",
       "  <thead>\n",
       "    <tr style=\"text-align: right;\">\n",
       "      <th></th>\n",
       "      <th>lat</th>\n",
       "      <th>lon</th>\n",
       "      <th>RH</th>\n",
       "      <th>U</th>\n",
       "      <th>V</th>\n",
       "      <th>QV</th>\n",
       "      <th>T</th>\n",
       "      <th>time</th>\n",
       "      <th>weightedMeanO3</th>\n",
       "    </tr>\n",
       "  </thead>\n",
       "  <tbody>\n",
       "    <tr>\n",
       "      <th>0</th>\n",
       "      <td>56.0</td>\n",
       "      <td>7.5</td>\n",
       "      <td>0.800717</td>\n",
       "      <td>-13.585140</td>\n",
       "      <td>3.725996</td>\n",
       "      <td>0.002572</td>\n",
       "      <td>271.011611</td>\n",
       "      <td>1996-01-01</td>\n",
       "      <td>29.751860</td>\n",
       "    </tr>\n",
       "    <tr>\n",
       "      <th>1</th>\n",
       "      <td>46.0</td>\n",
       "      <td>-122.5</td>\n",
       "      <td>0.898898</td>\n",
       "      <td>-0.016807</td>\n",
       "      <td>1.728883</td>\n",
       "      <td>0.005204</td>\n",
       "      <td>278.469478</td>\n",
       "      <td>1996-01-01</td>\n",
       "      <td>6.217391</td>\n",
       "    </tr>\n",
       "    <tr>\n",
       "      <th>2</th>\n",
       "      <td>46.0</td>\n",
       "      <td>-102.5</td>\n",
       "      <td>0.862283</td>\n",
       "      <td>4.652367</td>\n",
       "      <td>-6.664802</td>\n",
       "      <td>0.002233</td>\n",
       "      <td>266.765017</td>\n",
       "      <td>1996-01-01</td>\n",
       "      <td>23.416667</td>\n",
       "    </tr>\n",
       "    <tr>\n",
       "      <th>3</th>\n",
       "      <td>46.0</td>\n",
       "      <td>-97.5</td>\n",
       "      <td>0.951425</td>\n",
       "      <td>-1.605404</td>\n",
       "      <td>-1.991173</td>\n",
       "      <td>0.002368</td>\n",
       "      <td>267.066920</td>\n",
       "      <td>1996-01-01</td>\n",
       "      <td>18.583333</td>\n",
       "    </tr>\n",
       "    <tr>\n",
       "      <th>4</th>\n",
       "      <td>46.0</td>\n",
       "      <td>-92.5</td>\n",
       "      <td>0.927911</td>\n",
       "      <td>-7.111815</td>\n",
       "      <td>-2.292224</td>\n",
       "      <td>0.002714</td>\n",
       "      <td>269.141948</td>\n",
       "      <td>1996-01-01</td>\n",
       "      <td>16.000000</td>\n",
       "    </tr>\n",
       "  </tbody>\n",
       "</table>\n",
       "</div>"
      ],
      "text/plain": [
       "    lat    lon        RH          U         V        QV           T  \\\n",
       "0  56.0    7.5  0.800717 -13.585140  3.725996  0.002572  271.011611   \n",
       "1  46.0 -122.5  0.898898  -0.016807  1.728883  0.005204  278.469478   \n",
       "2  46.0 -102.5  0.862283   4.652367 -6.664802  0.002233  266.765017   \n",
       "3  46.0  -97.5  0.951425  -1.605404 -1.991173  0.002368  267.066920   \n",
       "4  46.0  -92.5  0.927911  -7.111815 -2.292224  0.002714  269.141948   \n",
       "\n",
       "         time  weightedMeanO3  \n",
       "0  1996-01-01       29.751860  \n",
       "1  1996-01-01        6.217391  \n",
       "2  1996-01-01       23.416667  \n",
       "3  1996-01-01       18.583333  \n",
       "4  1996-01-01       16.000000  "
      ]
     },
     "execution_count": 18,
     "metadata": {},
     "output_type": "execute_result"
    }
   ],
   "source": [
    "\n",
    "# Drop the first column (index 0)\n",
    "df = df.drop(df.columns[0], axis=1)\n",
    "\n",
    "\n",
    "df.head()"
   ]
  },
  {
   "cell_type": "code",
   "execution_count": 19,
   "metadata": {},
   "outputs": [
    {
     "data": {
      "text/html": [
       "<div>\n",
       "<style scoped>\n",
       "    .dataframe tbody tr th:only-of-type {\n",
       "        vertical-align: middle;\n",
       "    }\n",
       "\n",
       "    .dataframe tbody tr th {\n",
       "        vertical-align: top;\n",
       "    }\n",
       "\n",
       "    .dataframe thead th {\n",
       "        text-align: right;\n",
       "    }\n",
       "</style>\n",
       "<table border=\"1\" class=\"dataframe\">\n",
       "  <thead>\n",
       "    <tr style=\"text-align: right;\">\n",
       "      <th></th>\n",
       "      <th>lat</th>\n",
       "      <th>lon</th>\n",
       "      <th>RH</th>\n",
       "      <th>U</th>\n",
       "      <th>V</th>\n",
       "      <th>QV</th>\n",
       "      <th>T</th>\n",
       "      <th>weightedMeanO3</th>\n",
       "    </tr>\n",
       "  </thead>\n",
       "  <tbody>\n",
       "    <tr>\n",
       "      <th>0</th>\n",
       "      <td>56.0</td>\n",
       "      <td>7.5</td>\n",
       "      <td>0.800717</td>\n",
       "      <td>-13.585140</td>\n",
       "      <td>3.725996</td>\n",
       "      <td>0.002572</td>\n",
       "      <td>271.011611</td>\n",
       "      <td>29.751860</td>\n",
       "    </tr>\n",
       "    <tr>\n",
       "      <th>1</th>\n",
       "      <td>46.0</td>\n",
       "      <td>-122.5</td>\n",
       "      <td>0.898898</td>\n",
       "      <td>-0.016807</td>\n",
       "      <td>1.728883</td>\n",
       "      <td>0.005204</td>\n",
       "      <td>278.469478</td>\n",
       "      <td>6.217391</td>\n",
       "    </tr>\n",
       "    <tr>\n",
       "      <th>2</th>\n",
       "      <td>46.0</td>\n",
       "      <td>-102.5</td>\n",
       "      <td>0.862283</td>\n",
       "      <td>4.652367</td>\n",
       "      <td>-6.664802</td>\n",
       "      <td>0.002233</td>\n",
       "      <td>266.765017</td>\n",
       "      <td>23.416667</td>\n",
       "    </tr>\n",
       "    <tr>\n",
       "      <th>3</th>\n",
       "      <td>46.0</td>\n",
       "      <td>-97.5</td>\n",
       "      <td>0.951425</td>\n",
       "      <td>-1.605404</td>\n",
       "      <td>-1.991173</td>\n",
       "      <td>0.002368</td>\n",
       "      <td>267.066920</td>\n",
       "      <td>18.583333</td>\n",
       "    </tr>\n",
       "    <tr>\n",
       "      <th>4</th>\n",
       "      <td>46.0</td>\n",
       "      <td>-92.5</td>\n",
       "      <td>0.927911</td>\n",
       "      <td>-7.111815</td>\n",
       "      <td>-2.292224</td>\n",
       "      <td>0.002714</td>\n",
       "      <td>269.141948</td>\n",
       "      <td>16.000000</td>\n",
       "    </tr>\n",
       "  </tbody>\n",
       "</table>\n",
       "</div>"
      ],
      "text/plain": [
       "    lat    lon        RH          U         V        QV           T  \\\n",
       "0  56.0    7.5  0.800717 -13.585140  3.725996  0.002572  271.011611   \n",
       "1  46.0 -122.5  0.898898  -0.016807  1.728883  0.005204  278.469478   \n",
       "2  46.0 -102.5  0.862283   4.652367 -6.664802  0.002233  266.765017   \n",
       "3  46.0  -97.5  0.951425  -1.605404 -1.991173  0.002368  267.066920   \n",
       "4  46.0  -92.5  0.927911  -7.111815 -2.292224  0.002714  269.141948   \n",
       "\n",
       "   weightedMeanO3  \n",
       "0       29.751860  \n",
       "1        6.217391  \n",
       "2       23.416667  \n",
       "3       18.583333  \n",
       "4       16.000000  "
      ]
     },
     "execution_count": 19,
     "metadata": {},
     "output_type": "execute_result"
    }
   ],
   "source": [
    "# Drop the specified column\n",
    "df = df.drop(\"time\", axis=1)\n",
    "df.head()\n"
   ]
  },
  {
   "cell_type": "markdown",
   "metadata": {},
   "source": [
    "Finding correlation between variables."
   ]
  },
  {
   "cell_type": "code",
   "execution_count": 20,
   "metadata": {},
   "outputs": [
    {
     "name": "stdout",
     "output_type": "stream",
     "text": [
      "                     lat       lon        RH         U         V        QV  \\\n",
      "lat             1.000000  0.471376  0.293875  0.107608 -0.045348 -0.449378   \n",
      "lon             0.471376  1.000000  0.325626 -0.036494  0.014872 -0.042233   \n",
      "RH              0.293875  0.325626  1.000000 -0.054096  0.105824  0.126827   \n",
      "U               0.107608 -0.036494 -0.054096  1.000000 -0.043110 -0.145690   \n",
      "V              -0.045348  0.014872  0.105824 -0.043110  1.000000  0.274571   \n",
      "QV             -0.449378 -0.042233  0.126827 -0.145690  0.274571  1.000000   \n",
      "T              -0.500039 -0.138461 -0.368779 -0.116229  0.222870  0.815366   \n",
      "weightedMeanO3 -0.136656 -0.153370 -0.416983  0.078036  0.023375  0.094691   \n",
      "\n",
      "                       T  weightedMeanO3  \n",
      "lat            -0.500039       -0.136656  \n",
      "lon            -0.138461       -0.153370  \n",
      "RH             -0.368779       -0.416983  \n",
      "U              -0.116229        0.078036  \n",
      "V               0.222870        0.023375  \n",
      "QV              0.815366        0.094691  \n",
      "T               1.000000        0.279592  \n",
      "weightedMeanO3  0.279592        1.000000  \n"
     ]
    }
   ],
   "source": [
    "\n",
    "# Calculate the correlation matrix\n",
    "correlation_matrix = df.corr()\n",
    "\n",
    "# Print the correlation matrix\n",
    "print(correlation_matrix)\n"
   ]
  },
  {
   "cell_type": "markdown",
   "metadata": {},
   "source": [
    "Using the correlation matrix to form a heatmap."
   ]
  },
  {
   "cell_type": "code",
   "execution_count": 21,
   "metadata": {},
   "outputs": [
    {
     "data": {
      "image/png": "[encoded data removed]",
      "text/plain": [
       "<Figure size 1000x800 with 2 Axes>"
      ]
     },
     "metadata": {},
     "output_type": "display_data"
    }
   ],
   "source": [
    "import seaborn as sns\n",
    "import matplotlib.pyplot as plt\n",
    "\n",
    "# Create a heatmap of the correlation matrix\n",
    "plt.figure(figsize=(10, 8))\n",
    "sns.heatmap(correlation_matrix, annot=True, cmap='coolwarm', fmt=\".2f\")\n",
    "plt.title(\"Correlation Heatmap\")\n",
    "plt.show()\n"
   ]
  },
  {
   "cell_type": "code",
   "execution_count": 25,
   "metadata": {},
   "outputs": [
    {
     "name": "stdout",
     "output_type": "stream",
     "text": [
      "(62914, 6)\n",
      "62914\n"
     ]
    }
   ],
   "source": [
    "print(df.iloc[:, :6]\n",
    ".shape)\n",
    "print(len(df['weightedMeanO3']))\n"
   ]
  },
  {
   "cell_type": "markdown",
   "metadata": {},
   "source": [
    "Using Ensemble method like random forest to assess feature importance."
   ]
  },
  {
   "cell_type": "code",
   "execution_count": 26,
   "metadata": {},
   "outputs": [],
   "source": [
    "from sklearn.ensemble import RandomForestRegressor\n",
    "\n",
    "\n",
    "model = RandomForestRegressor()\n",
    "model.fit(df.iloc[:, :6], df['weightedMeanO3'])\n",
    "\n",
    "# Access feature importance scores\n",
    "feature_importance = model.feature_importances_\n"
   ]
  },
  {
   "cell_type": "code",
   "execution_count": 27,
   "metadata": {},
   "outputs": [
    {
     "name": "stdout",
     "output_type": "stream",
     "text": [
      "[0.12994489 0.14738123 0.27919328 0.1222078  0.12820459 0.19306822]\n"
     ]
    }
   ],
   "source": [
    "# Sorted feature importance score\n",
    "\n",
    "print(feature_importance)"
   ]
  },
  {
   "cell_type": "code",
   "execution_count": 29,
   "metadata": {},
   "outputs": [
    {
     "name": "stdout",
     "output_type": "stream",
     "text": [
      "[('RH', 0.4169827995154151), ('T', 0.2795915937381959), ('lon', 0.15337032471149822), ('lat', 0.13665614214501048), ('QV', 0.09469068392695584), ('U', 0.07803565165754106), ('V', 0.02337456975036202)]\n"
     ]
    }
   ],
   "source": [
    "\n",
    "from scipy.stats import pearsonr\n",
    "\n",
    "# Assuming df is your DataFrame\n",
    "correlations = {}\n",
    "target_variable = 'weightedMeanO3'\n",
    "\n",
    "for column in df.columns:\n",
    "    if column != target_variable:\n",
    "        corr, _ = pearsonr(df[column], df[target_variable])\n",
    "        correlations[column] = abs(corr)\n",
    "\n",
    "# Sort by correlation values to find the most important predictors\n",
    "sorted_correlations = sorted(correlations.items(), key=lambda x: x[1], reverse=True)\n",
    "print(sorted_correlations)"
   ]
  }
 ],
 "metadata": {
  "kernelspec": {
   "display_name": "Python 3",
   "language": "python",
   "name": "python3"
  },
  "language_info": {
   "codemirror_mode": {
    "name": "ipython",
    "version": 3
   },
   "file_extension": ".py",
   "mimetype": "text/x-python",
   "name": "python",
   "nbconvert_exporter": "python",
   "pygments_lexer": "ipython3",
   "version": "3.12.0"
  }
 },
 "nbformat": 4,
 "nbformat_minor": 2
}
